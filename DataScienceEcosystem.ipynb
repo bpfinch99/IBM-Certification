{
 "cells": [
  {
   "cell_type": "markdown",
   "id": "c2d2bf0f",
   "metadata": {},
   "source": [
    "# Data Science Tools and Ecosystem"
   ]
  },
  {
   "cell_type": "markdown",
   "id": "68e27b99",
   "metadata": {},
   "source": [
    "In this notebook, Data Science Tools and Ecosystem are summarized."
   ]
  },
  {
   "cell_type": "markdown",
   "id": "4a4124d0",
   "metadata": {},
   "source": [
    "**Objectives:** \n",
    "* Python\n",
    "* R\n",
    "* SQL"
   ]
  },
  {
   "cell_type": "markdown",
   "id": "65b735a8",
   "metadata": {},
   "source": [
    "## Author\n",
    "Brady Finch"
   ]
  },
  {
   "cell_type": "markdown",
   "id": "c124cf7b",
   "metadata": {},
   "source": [
    "Some of the popular languages that Data Scientists use are:\n",
    "   1. Python\n",
    "   2. R\n",
    "   3. SQL\n",
    "   4. Scala"
   ]
  },
  {
   "cell_type": "markdown",
   "id": "2321c39f",
   "metadata": {},
   "source": [
    "Some of the commonly used libraries of Data Scientists include:\n",
    "   1. Scikit-learn\n",
    "   2. Tensorflow\n",
    "   3. Apache Spark"
   ]
  },
  {
   "cell_type": "markdown",
   "id": "80c643f3",
   "metadata": {},
   "source": [
    "| Data Science Tools |\n",
    "|---|\n",
    "|Github|\n",
    "|Jupyter Notebooks|\n",
    "|Jupyter Labs|\n",
    "|Google Collab|\n",
    "|RStudio|\n",
    "|Power BI|"
   ]
  },
  {
   "cell_type": "markdown",
   "id": "18620e12",
   "metadata": {},
   "source": [
    "### Below are a few examples of evaluating arithmetic expressions in Python"
   ]
  },
  {
   "cell_type": "code",
   "execution_count": 3,
   "id": "fb150334",
   "metadata": {},
   "outputs": [
    {
     "data": {
      "text/plain": [
       "17"
      ]
     },
     "execution_count": 3,
     "metadata": {},
     "output_type": "execute_result"
    }
   ],
   "source": [
    "# This is a simple arithmetic expression to multiply then add integers\n",
    "(3 * 4) + 5"
   ]
  },
  {
   "cell_type": "code",
   "execution_count": 4,
   "id": "673e6c46",
   "metadata": {},
   "outputs": [
    {
     "data": {
      "text/plain": [
       "3.3333333333333335"
      ]
     },
     "execution_count": 4,
     "metadata": {},
     "output_type": "execute_result"
    }
   ],
   "source": [
    "# This will convert 200 minutes to hours by diving by 60\n",
    "200 / 60"
   ]
  }
 ],
 "metadata": {
  "kernelspec": {
   "display_name": "Python 3 (ipykernel)",
   "language": "python",
   "name": "python3"
  },
  "language_info": {
   "codemirror_mode": {
    "name": "ipython",
    "version": 3
   },
   "file_extension": ".py",
   "mimetype": "text/x-python",
   "name": "python",
   "nbconvert_exporter": "python",
   "pygments_lexer": "ipython3",
   "version": "3.8.16"
  }
 },
 "nbformat": 4,
 "nbformat_minor": 5
}
